{
 "cells": [
  {
   "cell_type": "code",
   "execution_count": 2,
   "metadata": {},
   "outputs": [
    {
     "name": "stderr",
     "output_type": "stream",
     "text": [
      "/Users/phinate/code/interpolation-with-flows/venv/lib/python3.10/site-packages/onnx2pytorch/convert/operations.py:154: UserWarning: The given NumPy array is not writable, and PyTorch does not support non-writable tensors. This means writing to this tensor will result in undefined behavior. You may want to copy the array to protect its data or make it writable before converting it to a tensor. This type of warning will be suppressed for the rest of this program. (Triggered internally at /Users/runner/work/pytorch/pytorch/pytorch/torch/csrc/utils/tensor_numpy.cpp:205.)\n",
      "  weight = torch.from_numpy(numpy_helper.to_array(params[0]))\n",
      "/Users/phinate/code/interpolation-with-flows/venv/lib/python3.10/site-packages/onnx2pytorch/convert/model.py:147: UserWarning: Using experimental implementation that allows 'batch_size > 1'.Batchnorm layers could potentially produce false outputs.\n",
      "  warnings.warn(\n"
     ]
    },
    {
     "ename": "NameError",
     "evalue": "name 'test_data' is not defined",
     "output_type": "error",
     "traceback": [
      "\u001b[0;31m---------------------------------------------------------------------------\u001b[0m",
      "\u001b[0;31mNameError\u001b[0m                                 Traceback (most recent call last)",
      "Cell \u001b[0;32mIn[2], line 38\u001b[0m\n\u001b[1;32m     36\u001b[0m test_data_hists \u001b[39m=\u001b[39m []\n\u001b[1;32m     37\u001b[0m \u001b[39mwith\u001b[39;00m torch\u001b[39m.\u001b[39mno_grad():\n\u001b[0;32m---> 38\u001b[0m     \u001b[39mfor\u001b[39;00m array \u001b[39min\u001b[39;00m test_data:\n\u001b[1;32m     39\u001b[0m         array \u001b[39m=\u001b[39m ak_to_ndarray(\n\u001b[1;32m     40\u001b[0m             array[[\u001b[39m'\u001b[39m\u001b[39mm_jj\u001b[39m\u001b[39m'\u001b[39m, \u001b[39m'\u001b[39m\u001b[39mm_bbyy_mod\u001b[39m\u001b[39m'\u001b[39m, \u001b[39m'\u001b[39m\u001b[39mm_x\u001b[39m\u001b[39m'\u001b[39m, \u001b[39m'\u001b[39m\u001b[39mm_s\u001b[39m\u001b[39m'\u001b[39m, \u001b[39m'\u001b[39m\u001b[39mtotal_weight\u001b[39m\u001b[39m'\u001b[39m]],\n\u001b[1;32m     41\u001b[0m         )\n\u001b[1;32m     42\u001b[0m         pnn_output \u001b[39m=\u001b[39m pytorch_model\u001b[39m.\u001b[39mforward(\n\u001b[1;32m     43\u001b[0m             torch\u001b[39m.\u001b[39mtensor(\n\u001b[1;32m     44\u001b[0m                 array[:, :\u001b[39m-\u001b[39m\u001b[39m1\u001b[39m], dtype\u001b[39m=\u001b[39mtorch\u001b[39m.\u001b[39mfloat32,\n\u001b[1;32m     45\u001b[0m             ),\n\u001b[1;32m     46\u001b[0m         )\u001b[39m.\u001b[39mdetach()\u001b[39m.\u001b[39mnumpy()\n",
      "\u001b[0;31mNameError\u001b[0m: name 'test_data' is not defined"
     ]
    }
   ],
   "source": [
    "# Import signal MC with preselection\n",
    "import awkward as ak \n",
    "import numpy as np\n",
    "import torch\n",
    "from onnx2pytorch import ConvertModel\n",
    "import onnx\n",
    "sig_arr = ak.from_parquet('signals-pnn.parquet')\n",
    "\n",
    "def ak_to_ndarray(arr):\n",
    "    return (\n",
    "        arr.to_numpy()\n",
    "        .astype([(field, np.float64) for field in arr.fields])\n",
    "        .view((np.float64, len(arr.fields)))\n",
    "    )\n",
    "onnx_net = onnx.load('onnx-model.onnx')\n",
    "pytorch_model = ConvertModel(onnx_net, experimental=True)\n",
    "mxms = (\n",
    "    np.unique(sig_arr[['m_x', 'm_s']])\n",
    "    .to_numpy()\n",
    "    .astype([('m_x', int), ('m_s', int)])\n",
    "    .view((int, 2))\n",
    ")\n",
    "# Remove points with m_s =< 15 GeV, since the S is highly boosted and jets aren't resolvable\n",
    "mxms = mxms[mxms[:, 1] > 15]\n",
    "\n",
    "\n",
    "# Number of bins for histogram\n",
    "bins = 10\n",
    "\n",
    "# Define the function to apply along the axis\n",
    "\n",
    "\n",
    "def hist_func(x):\n",
    "    return np.histogram(x, bins=bins)[0]\n",
    "test_data = [\n",
    "    sig_arr[(sig_arr.m_x == pair[0]) * (sig_arr.m_s == pair[1])]\n",
    "    for pair in mxms\n",
    "]\n",
    "test_data_hists = []\n",
    "with torch.no_grad():\n",
    "    for array in test_data:\n",
    "        array = ak_to_ndarray(\n",
    "            array[['m_jj', 'm_bbyy_mod', 'm_x', 'm_s', 'total_weight']],\n",
    "        )\n",
    "        pnn_output = pytorch_model.forward(\n",
    "            torch.tensor(\n",
    "                array[:, :-1], dtype=torch.float32,\n",
    "            ),\n",
    "        ).detach().numpy()\n",
    "        test_data_hists.append(\n",
    "            np.histogram(\n",
    "                pnn_output.ravel(), weights=array[:, -1],\n",
    "            ),\n",
    "        )\n",
    "test_norms = np.array([np.sum(h[0].ravel()) for h in test_data_hists])\n",
    "print([dict(mx=a[0],ms=a[1],sum_of_total_weights=b) for a, b in zip(mxms, test_norms)])"
   ]
  },
  {
   "cell_type": "code",
   "execution_count": null,
   "metadata": {},
   "outputs": [],
   "source": []
  }
 ],
 "metadata": {
  "kernelspec": {
   "display_name": "venv",
   "language": "python",
   "name": "python3"
  },
  "language_info": {
   "codemirror_mode": {
    "name": "ipython",
    "version": 3
   },
   "file_extension": ".py",
   "mimetype": "text/x-python",
   "name": "python",
   "nbconvert_exporter": "python",
   "pygments_lexer": "ipython3",
   "version": "3.10.8"
  },
  "orig_nbformat": 4
 },
 "nbformat": 4,
 "nbformat_minor": 2
}
